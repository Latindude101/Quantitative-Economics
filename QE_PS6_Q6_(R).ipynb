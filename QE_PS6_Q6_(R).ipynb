{
  "nbformat": 4,
  "nbformat_minor": 0,
  "metadata": {
    "colab": {
      "name": "QE PS6 Q6 (R).ipynb",
      "provenance": [],
      "collapsed_sections": [],
      "authorship_tag": "ABX9TyPkLqRCoy0ewODFnmvTS5wQ",
      "include_colab_link": true
    },
    "kernelspec": {
      "name": "ir",
      "display_name": "R"
    }
  },
  "cells": [
    {
      "cell_type": "markdown",
      "metadata": {
        "id": "view-in-github",
        "colab_type": "text"
      },
      "source": [
        "<a href=\"https://colab.research.google.com/github/Latindude101/Quantitative-Economics/blob/main/QE_PS6_Q6_(R).ipynb\" target=\"_parent\"><img src=\"https://colab.research.google.com/assets/colab-badge.svg\" alt=\"Open In Colab\"/></a>"
      ]
    },
    {
      "cell_type": "markdown",
      "metadata": {
        "id": "ayAtQSZ_VX2p"
      },
      "source": [
        "# Setup and OLS"
      ]
    },
    {
      "cell_type": "code",
      "metadata": {
        "id": "UCYOl17Rvqq-",
        "colab": {
          "base_uri": "https://localhost:8080/"
        },
        "outputId": "354c7a74-945b-424c-aad0-4fd62abb1acd"
      },
      "source": [
        "install.packages('estimatr')\r\n",
        "install.packages('car')"
      ],
      "execution_count": 3,
      "outputs": [
        {
          "output_type": "stream",
          "text": [
            "Installing package into ‘/usr/local/lib/R/site-library’\n",
            "(as ‘lib’ is unspecified)\n",
            "\n",
            "also installing the dependencies ‘Formula’, ‘RcppEigen’\n",
            "\n",
            "\n",
            "Installing package into ‘/usr/local/lib/R/site-library’\n",
            "(as ‘lib’ is unspecified)\n",
            "\n",
            "also installing the dependencies ‘matrixStats’, ‘RcppArmadillo’, ‘numDeriv’, ‘SparseM’, ‘MatrixModels’, ‘conquer’, ‘sp’, ‘data.table’, ‘openxlsx’, ‘minqa’, ‘nloptr’, ‘statmod’, ‘carData’, ‘abind’, ‘pbkrtest’, ‘quantreg’, ‘maptools’, ‘rio’, ‘lme4’\n",
            "\n",
            "\n"
          ],
          "name": "stderr"
        }
      ]
    },
    {
      "cell_type": "code",
      "metadata": {
        "id": "suTTP6yRyLYX",
        "colab": {
          "base_uri": "https://localhost:8080/",
          "height": 207
        },
        "outputId": "7efa55f0-55d6-4984-b9ed-1b9864359623"
      },
      "source": [
        "fert <- read.csv('fertility.csv')\r\n",
        "head(fert)\r\n",
        "library(estimatr)\r\n",
        "library(car)"
      ],
      "execution_count": 5,
      "outputs": [
        {
          "output_type": "display_data",
          "data": {
            "text/plain": [
              "  morekids boy1st boy2nd samesex agem1 black hispan othrace weeksm1\n",
              "1 0        1      0      0       27    0     0      0        0     \n",
              "2 0        0      1      0       30    0     0      0       30     \n",
              "3 0        1      0      0       27    0     0      0        0     \n",
              "4 0        1      0      0       35    1     0      0        0     \n",
              "5 0        0      0      1       30    0     0      0       22     \n",
              "6 0        1      0      0       26    0     0      0       40     "
            ],
            "text/latex": "A data.frame: 6 × 9\n\\begin{tabular}{r|lllllllll}\n  & morekids & boy1st & boy2nd & samesex & agem1 & black & hispan & othrace & weeksm1\\\\\n  & <int> & <int> & <int> & <int> & <int> & <int> & <int> & <int> & <int>\\\\\n\\hline\n\t1 & 0 & 1 & 0 & 0 & 27 & 0 & 0 & 0 &  0\\\\\n\t2 & 0 & 0 & 1 & 0 & 30 & 0 & 0 & 0 & 30\\\\\n\t3 & 0 & 1 & 0 & 0 & 27 & 0 & 0 & 0 &  0\\\\\n\t4 & 0 & 1 & 0 & 0 & 35 & 1 & 0 & 0 &  0\\\\\n\t5 & 0 & 0 & 0 & 1 & 30 & 0 & 0 & 0 & 22\\\\\n\t6 & 0 & 1 & 0 & 0 & 26 & 0 & 0 & 0 & 40\\\\\n\\end{tabular}\n",
            "text/markdown": "\nA data.frame: 6 × 9\n\n| <!--/--> | morekids &lt;int&gt; | boy1st &lt;int&gt; | boy2nd &lt;int&gt; | samesex &lt;int&gt; | agem1 &lt;int&gt; | black &lt;int&gt; | hispan &lt;int&gt; | othrace &lt;int&gt; | weeksm1 &lt;int&gt; |\n|---|---|---|---|---|---|---|---|---|---|\n| 1 | 0 | 1 | 0 | 0 | 27 | 0 | 0 | 0 |  0 |\n| 2 | 0 | 0 | 1 | 0 | 30 | 0 | 0 | 0 | 30 |\n| 3 | 0 | 1 | 0 | 0 | 27 | 0 | 0 | 0 |  0 |\n| 4 | 0 | 1 | 0 | 0 | 35 | 1 | 0 | 0 |  0 |\n| 5 | 0 | 0 | 0 | 1 | 30 | 0 | 0 | 0 | 22 |\n| 6 | 0 | 1 | 0 | 0 | 26 | 0 | 0 | 0 | 40 |\n\n",
            "text/html": [
              "<table>\n",
              "<caption>A data.frame: 6 × 9</caption>\n",
              "<thead>\n",
              "\t<tr><th></th><th scope=col>morekids</th><th scope=col>boy1st</th><th scope=col>boy2nd</th><th scope=col>samesex</th><th scope=col>agem1</th><th scope=col>black</th><th scope=col>hispan</th><th scope=col>othrace</th><th scope=col>weeksm1</th></tr>\n",
              "\t<tr><th></th><th scope=col>&lt;int&gt;</th><th scope=col>&lt;int&gt;</th><th scope=col>&lt;int&gt;</th><th scope=col>&lt;int&gt;</th><th scope=col>&lt;int&gt;</th><th scope=col>&lt;int&gt;</th><th scope=col>&lt;int&gt;</th><th scope=col>&lt;int&gt;</th><th scope=col>&lt;int&gt;</th></tr>\n",
              "</thead>\n",
              "<tbody>\n",
              "\t<tr><th scope=row>1</th><td>0</td><td>1</td><td>0</td><td>0</td><td>27</td><td>0</td><td>0</td><td>0</td><td> 0</td></tr>\n",
              "\t<tr><th scope=row>2</th><td>0</td><td>0</td><td>1</td><td>0</td><td>30</td><td>0</td><td>0</td><td>0</td><td>30</td></tr>\n",
              "\t<tr><th scope=row>3</th><td>0</td><td>1</td><td>0</td><td>0</td><td>27</td><td>0</td><td>0</td><td>0</td><td> 0</td></tr>\n",
              "\t<tr><th scope=row>4</th><td>0</td><td>1</td><td>0</td><td>0</td><td>35</td><td>1</td><td>0</td><td>0</td><td> 0</td></tr>\n",
              "\t<tr><th scope=row>5</th><td>0</td><td>0</td><td>0</td><td>1</td><td>30</td><td>0</td><td>0</td><td>0</td><td>22</td></tr>\n",
              "\t<tr><th scope=row>6</th><td>0</td><td>1</td><td>0</td><td>0</td><td>26</td><td>0</td><td>0</td><td>0</td><td>40</td></tr>\n",
              "</tbody>\n",
              "</table>\n"
            ]
          },
          "metadata": {
            "tags": []
          }
        }
      ]
    },
    {
      "cell_type": "code",
      "metadata": {
        "id": "BdUM930iya3J"
      },
      "source": [
        "# Extract values\r\n",
        "morekids <- fert$morekids\r\n",
        "boy1st <- fert$boy1st\r\n",
        "boy2nd <- fert$boy2nd\r\n",
        "samesex <- fert$samesex\r\n",
        "agem1 <- fert$agem1\r\n",
        "black <- fert$black\r\n",
        "hispan <- fert$hispan\r\n",
        "othrace <- fert$othrace\r\n",
        "weeksm1 <- fert$weeksm1\r\n"
      ],
      "execution_count": 6,
      "outputs": []
    },
    {
      "cell_type": "code",
      "metadata": {
        "id": "FwcRiQrSzqXq",
        "colab": {
          "base_uri": "https://localhost:8080/",
          "height": 288
        },
        "outputId": "dbaa3b8a-b0eb-444c-934b-0a73a6c68ea7"
      },
      "source": [
        "# a)\r\n",
        "# OLS regression: Y = B0 + B1Di + U\r\n",
        "# morekids = 1 if mum has more than 2 kids\r\n",
        "add_kids <- summary(lm_robust(formula = weeksm1 ~ morekids, data = fert))\r\n",
        "add_kids\r\n",
        "ad_coef <- add_kids$coefficient[\"morekids\",\"Estimate\"]\r\n",
        "ad_err <- add_kids$coefficient[\"morekids\",\"Std. Error\"]\r\n",
        "ad_err\r\n",
        "# Using sprintf() for string interpolation\r\n",
        "sprintf(\"On average, in the sample, the effect of having an additional child when a woman has already had two children on weeks spent working is %s weeks.\", round(ad_coef, digits = 1))"
      ],
      "execution_count": 8,
      "outputs": [
        {
          "output_type": "display_data",
          "data": {
            "text/plain": [
              "\n",
              "Call:\n",
              "lm_robust(formula = weeksm1 ~ morekids, data = fert)\n",
              "\n",
              "Standard error type:  HC2 \n",
              "\n",
              "Coefficients:\n",
              "            Estimate Std. Error t value Pr(>|t|) CI Lower CI Upper     DF\n",
              "(Intercept)   21.120    0.04809  439.15        0   21.025   21.214 347759\n",
              "morekids      -5.407    0.07455  -72.53        0   -5.553   -5.261 347759\n",
              "\n",
              "Multiple R-squared:  0.01443 ,\tAdjusted R-squared:  0.01443 \n",
              "F-statistic:  5261 on 1 and 347759 DF,  p-value: < 2.2e-16"
            ]
          },
          "metadata": {
            "tags": []
          }
        },
        {
          "output_type": "display_data",
          "data": {
            "text/plain": [
              "[1] 0.07454751"
            ],
            "text/latex": "0.0745475085713227",
            "text/markdown": "0.0745475085713227",
            "text/html": [
              "0.0745475085713227"
            ]
          },
          "metadata": {
            "tags": []
          }
        },
        {
          "output_type": "display_data",
          "data": {
            "text/plain": [
              "[1] \"On average, in the sample, the effect of having an additional child when a woman has already had two children on weeks spent working is -5.4 weeks.\""
            ],
            "text/latex": "'On average, in the sample, the effect of having an additional child when a woman has already had two children on weeks spent working is -5.4 weeks.'",
            "text/markdown": "'On average, in the sample, the effect of having an additional child when a woman has already had two children on weeks spent working is -5.4 weeks.'",
            "text/html": [
              "'On average, in the sample, the effect of having an additional child when a woman has already had two children on weeks spent working is -5.4 weeks.'"
            ]
          },
          "metadata": {
            "tags": []
          }
        }
      ]
    },
    {
      "cell_type": "code",
      "metadata": {
        "colab": {
          "base_uri": "https://localhost:8080/",
          "height": 121
        },
        "id": "8jHGSPNa4seJ",
        "outputId": "65e1f3b0-3784-49c2-a9a6-643445614937"
      },
      "source": [
        "# b)\r\n",
        "\"The regression in a) will not give an estimate of the causal effect of fertility on labour supply because the residual of the regression is not orthogonal to variables used to estimate the labour supply.\"\r\n",
        "\"For example, there is likely to be a correlation between number of children and wealth (not included as a variable in the regression) which also affects number of weeks worked.\"\r\n",
        "\"Or women who want to focus on their career may have fewer children (unobserved preferences).\"\r\n",
        "\"Perhaps reverse causality.\""
      ],
      "execution_count": null,
      "outputs": [
        {
          "output_type": "display_data",
          "data": {
            "text/plain": [
              "[1] \"The regression in a) will not give an estimate of the causal effect of fertility on labour supply because the residual of the regression is not orthogonal to variables used to estimate the labour supply.\""
            ],
            "text/latex": "'The regression in a) will not give an estimate of the causal effect of fertility on labour supply because the residual of the regression is not orthogonal to variables used to estimate the labour supply.'",
            "text/markdown": "'The regression in a) will not give an estimate of the causal effect of fertility on labour supply because the residual of the regression is not orthogonal to variables used to estimate the labour supply.'",
            "text/html": [
              "'The regression in a) will not give an estimate of the causal effect of fertility on labour supply because the residual of the regression is not orthogonal to variables used to estimate the labour supply.'"
            ]
          },
          "metadata": {
            "tags": []
          }
        },
        {
          "output_type": "display_data",
          "data": {
            "text/plain": [
              "[1] \"For example, there is likely to be a correlation between number of children and wealth (not included as a variable in the regression) which also affects number of weeks worked.\""
            ],
            "text/latex": "'For example, there is likely to be a correlation between number of children and wealth (not included as a variable in the regression) which also affects number of weeks worked.'",
            "text/markdown": "'For example, there is likely to be a correlation between number of children and wealth (not included as a variable in the regression) which also affects number of weeks worked.'",
            "text/html": [
              "'For example, there is likely to be a correlation between number of children and wealth (not included as a variable in the regression) which also affects number of weeks worked.'"
            ]
          },
          "metadata": {
            "tags": []
          }
        },
        {
          "output_type": "display_data",
          "data": {
            "text/plain": [
              "[1] \"Or women who want to focus on their career may have fewer children (unobserved preferences).\""
            ],
            "text/latex": "'Or women who want to focus on their career may have fewer children (unobserved preferences).'",
            "text/markdown": "'Or women who want to focus on their career may have fewer children (unobserved preferences).'",
            "text/html": [
              "'Or women who want to focus on their career may have fewer children (unobserved preferences).'"
            ]
          },
          "metadata": {
            "tags": []
          }
        },
        {
          "output_type": "display_data",
          "data": {
            "text/plain": [
              "[1] \"Perhaps reverse causality.\""
            ],
            "text/latex": "'Perhaps reverse causality.'",
            "text/markdown": "'Perhaps reverse causality.'",
            "text/html": [
              "'Perhaps reverse causality.'"
            ]
          },
          "metadata": {
            "tags": []
          }
        }
      ]
    },
    {
      "cell_type": "code",
      "metadata": {
        "colab": {
          "base_uri": "https://localhost:8080/",
          "height": 391
        },
        "id": "jeUqZbUR6vym",
        "outputId": "44b69164-574c-4ccd-8ab1-7ccf41bb4503"
      },
      "source": [
        "# c)\r\n",
        "# i) t test of mean morekids between boy1st==1 and boy1st==0\r\n",
        "m_morekids <- fert$morekids[fert$boy1st==1]\r\n",
        "f_morekids <- fert$morekids[fert$boy1st==0]\r\n",
        "mean(m_morekids)\r\n",
        "mean(f_morekids)\r\n",
        "\r\n",
        "# 1. Hypotheses:\r\n",
        "\"H0: No diff in mean fertility between those whose first child was male vs female\"\r\n",
        "\"ha: There is a diff in mean fertility between the groups\"\r\n",
        "\r\n",
        "# 2. Decision Rule:\r\n",
        "\"alpha = 0.05\"\r\n",
        "crit <- qt(0.975, nrow(fert))\r\n",
        "sprintf(\"Reject H0 if |t| > %s\", qt(0.975, nrow(fert)))\r\n",
        "\r\n",
        "# 3. Calculate t value:\r\n",
        "ttest <- t.test(f_morekids, m_morekids, mu=0, alternative=\"two.sided\")\r\n",
        "ttest\r\n",
        "\r\n",
        "# 4. Compare with critical value:\r\n",
        "sprintf(\"%s > %s\", ttest$statistic, crit)\r\n",
        "\"We can therefore reject the hypothesis that there is no difference in fertility between those who have male first child and those who have a female first child.\"\r\n",
        "'Those who have a male first child on average in the same go on to have more than two children less frequently than those who have a female first child.'\r\n",
        "\"This could be because of the desire to have a son that could mean that those who have a male first child are less likely to have more than two kids that those whose first two children are female.\""
      ],
      "execution_count": null,
      "outputs": [
        {
          "output_type": "display_data",
          "data": {
            "text/plain": [
              "[1] 0.376275"
            ],
            "text/latex": "0.376274964881207",
            "text/markdown": "0.376274964881207",
            "text/html": [
              "0.376274964881207"
            ]
          },
          "metadata": {
            "tags": []
          }
        },
        {
          "output_type": "display_data",
          "data": {
            "text/plain": [
              "[1] 0.3851055"
            ],
            "text/latex": "0.38510552276219",
            "text/markdown": "0.38510552276219",
            "text/html": [
              "0.38510552276219"
            ]
          },
          "metadata": {
            "tags": []
          }
        },
        {
          "output_type": "display_data",
          "data": {
            "text/plain": [
              "[1] \"H0: No diff in mean fertility between those whose first child was male vs female\""
            ],
            "text/latex": "'H0: No diff in mean fertility between those whose first child was male vs female'",
            "text/markdown": "'H0: No diff in mean fertility between those whose first child was male vs female'",
            "text/html": [
              "'H0: No diff in mean fertility between those whose first child was male vs female'"
            ]
          },
          "metadata": {
            "tags": []
          }
        },
        {
          "output_type": "display_data",
          "data": {
            "text/plain": [
              "[1] \"ha: There is a diff in mean fertility between the groups\""
            ],
            "text/latex": "'ha: There is a diff in mean fertility between the groups'",
            "text/markdown": "'ha: There is a diff in mean fertility between the groups'",
            "text/html": [
              "'ha: There is a diff in mean fertility between the groups'"
            ]
          },
          "metadata": {
            "tags": []
          }
        },
        {
          "output_type": "display_data",
          "data": {
            "text/plain": [
              "[1] \"alpha = 0.05\""
            ],
            "text/latex": "'alpha = 0.05'",
            "text/markdown": "'alpha = 0.05'",
            "text/html": [
              "'alpha = 0.05'"
            ]
          },
          "metadata": {
            "tags": []
          }
        },
        {
          "output_type": "display_data",
          "data": {
            "text/plain": [
              "[1] \"Reject H0 if |t| > 1.95997330024809\""
            ],
            "text/latex": "'Reject H0 if \\textbar{}t\\textbar{} > 1.95997330024809'",
            "text/markdown": "'Reject H0 if |t| &gt; 1.95997330024809'",
            "text/html": [
              "'Reject H0 if |t| &gt; 1.95997330024809'"
            ]
          },
          "metadata": {
            "tags": []
          }
        },
        {
          "output_type": "display_data",
          "data": {
            "text/plain": [
              "\n",
              "\tWelch Two Sample t-test\n",
              "\n",
              "data:  f_morekids and m_morekids\n",
              "t = 4.5867, df = 253679, p-value = 4.505e-06\n",
              "alternative hypothesis: true difference in means is not equal to 0\n",
              "95 percent confidence interval:\n",
              " 0.005057134 0.012603982\n",
              "sample estimates:\n",
              "mean of x mean of y \n",
              "0.3851055 0.3762750 \n"
            ]
          },
          "metadata": {
            "tags": []
          }
        },
        {
          "output_type": "display_data",
          "data": {
            "text/plain": [
              "[1] \"4.5867253687037 > 1.95997330024809\""
            ],
            "text/latex": "'4.5867253687037 > 1.95997330024809'",
            "text/markdown": "'4.5867253687037 &gt; 1.95997330024809'",
            "text/html": [
              "'4.5867253687037 &gt; 1.95997330024809'"
            ]
          },
          "metadata": {
            "tags": []
          }
        },
        {
          "output_type": "display_data",
          "data": {
            "text/plain": [
              "[1] \"We can therefore reject the hypothesis that there is no difference in fertility between those who have male first child and those who have a female first child.\""
            ],
            "text/latex": "'We can therefore reject the hypothesis that there is no difference in fertility between those who have male first child and those who have a female first child.'",
            "text/markdown": "'We can therefore reject the hypothesis that there is no difference in fertility between those who have male first child and those who have a female first child.'",
            "text/html": [
              "'We can therefore reject the hypothesis that there is no difference in fertility between those who have male first child and those who have a female first child.'"
            ]
          },
          "metadata": {
            "tags": []
          }
        },
        {
          "output_type": "display_data",
          "data": {
            "text/plain": [
              "[1] \"Those who have a male first child on average in the same go on to have more than two children less frequently than those who have a female first child.\""
            ],
            "text/latex": "'Those who have a male first child on average in the same go on to have more than two children less frequently than those who have a female first child.'",
            "text/markdown": "'Those who have a male first child on average in the same go on to have more than two children less frequently than those who have a female first child.'",
            "text/html": [
              "'Those who have a male first child on average in the same go on to have more than two children less frequently than those who have a female first child.'"
            ]
          },
          "metadata": {
            "tags": []
          }
        },
        {
          "output_type": "display_data",
          "data": {
            "text/plain": [
              "[1] \"This could be because of the desire to have a son that could mean that those who have a male first child are less likely to have more than two kids that those whose first two children are female.\""
            ],
            "text/latex": "'This could be because of the desire to have a son that could mean that those who have a male first child are less likely to have more than two kids that those whose first two children are female.'",
            "text/markdown": "'This could be because of the desire to have a son that could mean that those who have a male first child are less likely to have more than two kids that those whose first two children are female.'",
            "text/html": [
              "'This could be because of the desire to have a son that could mean that those who have a male first child are less likely to have more than two kids that those whose first two children are female.'"
            ]
          },
          "metadata": {
            "tags": []
          }
        }
      ]
    },
    {
      "cell_type": "code",
      "metadata": {
        "colab": {
          "base_uri": "https://localhost:8080/",
          "height": 126
        },
        "id": "Gzbn_tXZEdnJ",
        "outputId": "88fe3545-e31d-441c-f8c7-a8763c34d161"
      },
      "source": [
        "# c)  i) alternatively different effects can be estimated using regressions and testing whether the coefficient is zero\r\n",
        "lm_robust(morekids ~ boy1st, data = fert)\r\n",
        "# gives same t value as mean comparison\r\n",
        "\"Estimate of coefficient on boy1st of -0.0088 is statistically significant but very small ('significant' does not mean large in statistics: significant means large relative to its imprecision)\""
      ],
      "execution_count": null,
      "outputs": [
        {
          "output_type": "display_data",
          "data": {
            "text/plain": [
              "                Estimate  Std. Error    t value     Pr(>|t|)    CI Lower\n",
              "(Intercept)  0.385105523 0.001383757 278.304355 0.000000e+00  0.38239340\n",
              "boy1st      -0.008830558 0.001925242  -4.586725 4.504663e-06 -0.01260398\n",
              "                CI Upper     DF\n",
              "(Intercept)  0.387817649 254652\n",
              "boy1st      -0.005057134 254652"
            ]
          },
          "metadata": {
            "tags": []
          }
        }
      ]
    },
    {
      "cell_type": "code",
      "metadata": {
        "colab": {
          "base_uri": "https://localhost:8080/",
          "height": 408
        },
        "id": "yxTPEh4b-EAh",
        "outputId": "25526f20-74de-45c1-8019-7300e6b0ac8b"
      },
      "source": [
        "# ii) t test of the mean of morekids between samesex==1 and samesex==0\r\n",
        "# samesex==1 when first two children are of the same sex\r\n",
        "same_morekids <- fert$morekids[fert$samesex==1]\r\n",
        "diff_morekids <- fert$morekids[fert$samesex==0]\r\n",
        "mean(same_morekids)\r\n",
        "mean(diff_morekids)\r\n",
        "\r\n",
        "# 1. Hypotheses:\r\n",
        "\"H0: No difference in average fertility between women whose first two children are of the same sex and women whose first two children are of different sex\"\r\n",
        "\"Ha: the average fertilities are not equal\"\r\n",
        "\r\n",
        "# 2. Decision Rule:\r\n",
        "\"alpha = 0.05\"\r\n",
        "\"Reject if t value lies outside +/- 1.959973 (critical values with 254614 d.o.f.)\"\r\n",
        "# calculate critical t values\r\n",
        "nrow(fert)\r\n",
        "\r\n",
        "# inputting 0.975 to qt() gives the critical value at the 0.05% s.l. for a two sided test\r\n",
        "# qt() is TDist quantile function\r\n",
        "qt(.975, nrow(fert))\r\n",
        "# WHY IS MY COUNT OF DOF DIFFERENT FROM R'S T TEST (off by 40)\r\n",
        "\r\n",
        "# 3. Calculate:\r\n",
        "ttest <- t.test(same_morekids, diff_morekids, mu=0, alternative=\"two.sided\")\r\n",
        "ttest\r\n",
        "\r\n",
        "# 4. Compare critical values\r\n",
        "\" t value: 41.88 > 1.959973\"\r\n",
        "sprintf(\"We can therefore reject the null hypothesis that there is no difference between the average fertility of women whose first two children are of the same sex and women whose first two children are of different sex\")\r\n",
        "\"This could also be due to the desire for a male heir that means that those with two female first children (samesex==1) are more likely to have further children.\""
      ],
      "execution_count": 15,
      "outputs": [
        {
          "output_type": "display_data",
          "data": {
            "text/plain": [
              "[1] 0.4167647"
            ],
            "text/latex": "0.416764657429972",
            "text/markdown": "0.416764657429972",
            "text/html": [
              "0.416764657429972"
            ]
          },
          "metadata": {
            "tags": []
          }
        },
        {
          "output_type": "display_data",
          "data": {
            "text/plain": [
              "[1] 0.3479284"
            ],
            "text/latex": "0.347928373853545",
            "text/markdown": "0.347928373853545",
            "text/html": [
              "0.347928373853545"
            ]
          },
          "metadata": {
            "tags": []
          }
        },
        {
          "output_type": "display_data",
          "data": {
            "text/plain": [
              "[1] \"H0: No difference in average fertility between women whose first two children are of the same sex and women whose first two children are of different sex\""
            ],
            "text/latex": "'H0: No difference in average fertility between women whose first two children are of the same sex and women whose first two children are of different sex'",
            "text/markdown": "'H0: No difference in average fertility between women whose first two children are of the same sex and women whose first two children are of different sex'",
            "text/html": [
              "'H0: No difference in average fertility between women whose first two children are of the same sex and women whose first two children are of different sex'"
            ]
          },
          "metadata": {
            "tags": []
          }
        },
        {
          "output_type": "display_data",
          "data": {
            "text/plain": [
              "[1] \"Ha: the average fertilities are not equal\""
            ],
            "text/latex": "'Ha: the average fertilities are not equal'",
            "text/markdown": "'Ha: the average fertilities are not equal'",
            "text/html": [
              "'Ha: the average fertilities are not equal'"
            ]
          },
          "metadata": {
            "tags": []
          }
        },
        {
          "output_type": "display_data",
          "data": {
            "text/plain": [
              "[1] \"alpha = 0.05\""
            ],
            "text/latex": "'alpha = 0.05'",
            "text/markdown": "'alpha = 0.05'",
            "text/html": [
              "'alpha = 0.05'"
            ]
          },
          "metadata": {
            "tags": []
          }
        },
        {
          "output_type": "display_data",
          "data": {
            "text/plain": [
              "[1] \"Reject if t value lies outside +/- 1.959973 (critical values with 254614 d.o.f.)\""
            ],
            "text/latex": "'Reject if t value lies outside +/- 1.959973 (critical values with 254614 d.o.f.)'",
            "text/markdown": "'Reject if t value lies outside +/- 1.959973 (critical values with 254614 d.o.f.)'",
            "text/html": [
              "'Reject if t value lies outside +/- 1.959973 (critical values with 254614 d.o.f.)'"
            ]
          },
          "metadata": {
            "tags": []
          }
        },
        {
          "output_type": "display_data",
          "data": {
            "text/plain": [
              "[1] 347764"
            ],
            "text/latex": "347764",
            "text/markdown": "347764",
            "text/html": [
              "347764"
            ]
          },
          "metadata": {
            "tags": []
          }
        },
        {
          "output_type": "display_data",
          "data": {
            "text/plain": [
              "[1] 1.959971"
            ],
            "text/latex": "1.95997080606082",
            "text/markdown": "1.95997080606082",
            "text/html": [
              "1.95997080606082"
            ]
          },
          "metadata": {
            "tags": []
          }
        },
        {
          "output_type": "display_data",
          "data": {
            "text/plain": [
              "\n",
              "\tWelch Two Sample t-test\n",
              "\n",
              "data:  same_morekids and diff_morekids\n",
              "t = 41.877, df = 347727, p-value < 2.2e-16\n",
              "alternative hypothesis: true difference in means is not equal to 0\n",
              "95 percent confidence interval:\n",
              " 0.06561455 0.07205802\n",
              "sample estimates:\n",
              "mean of x mean of y \n",
              "0.4167647 0.3479284 \n"
            ]
          },
          "metadata": {
            "tags": []
          }
        },
        {
          "output_type": "display_data",
          "data": {
            "text/plain": [
              "[1] \" t value: 41.89 > 1.959973\""
            ],
            "text/latex": "' t value: 41.89 > 1.959973'",
            "text/markdown": "' t value: 41.89 &gt; 1.959973'",
            "text/html": [
              "' t value: 41.89 &gt; 1.959973'"
            ]
          },
          "metadata": {
            "tags": []
          }
        },
        {
          "output_type": "display_data",
          "data": {
            "text/plain": [
              "[1] \"We can therefore reject the null hypothesis that there is no difference between the average fertility of women whose first two children are of the same sex and women whose first two children are of different sex\""
            ],
            "text/latex": "'We can therefore reject the null hypothesis that there is no difference between the average fertility of women whose first two children are of the same sex and women whose first two children are of different sex'",
            "text/markdown": "'We can therefore reject the null hypothesis that there is no difference between the average fertility of women whose first two children are of the same sex and women whose first two children are of different sex'",
            "text/html": [
              "'We can therefore reject the null hypothesis that there is no difference between the average fertility of women whose first two children are of the same sex and women whose first two children are of different sex'"
            ]
          },
          "metadata": {
            "tags": []
          }
        },
        {
          "output_type": "display_data",
          "data": {
            "text/plain": [
              "[1] \"This could also be due to the desire for a male heir that means that those with two female first children (samesex==1) are more likely to have further children.\""
            ],
            "text/latex": "'This could also be due to the desire for a male heir that means that those with two female first children (samesex==1) are more likely to have further children.'",
            "text/markdown": "'This could also be due to the desire for a male heir that means that those with two female first children (samesex==1) are more likely to have further children.'",
            "text/html": [
              "'This could also be due to the desire for a male heir that means that those with two female first children (samesex==1) are more likely to have further children.'"
            ]
          },
          "metadata": {
            "tags": []
          }
        }
      ]
    },
    {
      "cell_type": "code",
      "metadata": {
        "colab": {
          "base_uri": "https://localhost:8080/",
          "height": 253
        },
        "id": "8-IXOV0juKwN",
        "outputId": "fa9a7d7f-dda2-4845-cce9-07ac1b416f92"
      },
      "source": [
        "# c) ii) using the regression method\r\n",
        "summary(lm_robust(formula = morekids ~ samesex, data = fert))"
      ],
      "execution_count": 16,
      "outputs": [
        {
          "output_type": "display_data",
          "data": {
            "text/plain": [
              "\n",
              "Call:\n",
              "lm_robust(formula = morekids ~ samesex, data = fert)\n",
              "\n",
              "Standard error type:  HC2 \n",
              "\n",
              "Coefficients:\n",
              "            Estimate Std. Error t value Pr(>|t|) CI Lower CI Upper     DF\n",
              "(Intercept)  0.34795   0.001149  302.71        0  0.34570  0.35020 347761\n",
              "samesex      0.06879   0.001644   41.84        0  0.06557  0.07201 347761\n",
              "\n",
              "Multiple R-squared:  0.005008 ,\tAdjusted R-squared:  0.005005 \n",
              "F-statistic:  1751 on 1 and 347761 DF,  p-value: < 2.2e-16"
            ]
          },
          "metadata": {
            "tags": []
          }
        }
      ]
    },
    {
      "cell_type": "code",
      "metadata": {
        "colab": {
          "base_uri": "https://localhost:8080/",
          "height": 226
        },
        "id": "NWu6MH3gTDmN",
        "outputId": "ccb163bd-f873-4936-e59a-9c91a0deda55"
      },
      "source": [
        "# d)\r\n",
        "'samesex might not be a valid instrument for morekids if it does not meet the exogeneity condition'\r\n",
        "\"Three conditions for a valid instrument: exclusion, relevance, exogeneity\"\r\n",
        "'samesex is exogenously assigned (assigned as if random) (theoretically) but may not only affect labour supply through morekids:'\r\n",
        "\"exogeneity could be tested with an F test of the other variables determining samesex\"\r\n",
        "\"c): samesex is revelant to the determination of morekids\"\r\n",
        "'It could be that having children of different sexes means more work for the mother, e.g. ferrying them to different activities, resulting in correlation between samesex and weeksm1'\r\n",
        "\"This would be an effect of samesex on labour supply that does not go through morekids\"\r\n",
        "\r\n",
        "# Regression d\r\n",
        "exog_reg <- lm_robust(formula = weeksm1 ~ samesex, data=fert)\r\n",
        "\r\n",
        "# F test of significance\r\n",
        "# hypothesis matrix requires single =\r\n",
        "\r\n",
        "# 1. Hypotheses:\r\n",
        "# H0: OLS coefficient on samesex = 0\r\n",
        "# Ha: OLS coefficient on samesex != 0\r\n",
        "\r\n",
        "# 2. Decision Rule:\r\n",
        "# Reject H0 if F statistic > 10\r\n",
        "\r\n",
        "# 3. Calculate F statistic\r\n",
        "ftest <- linearHypothesis(exog_reg, c(\"samesex=0\"), test=\"F\")\r\n",
        "ftest\r\n",
        "\r\n",
        "# 4. Compare F statistic to critical value:\r\n",
        "sprintf(\"%s > %s\", ftest$F[2], 10)\r\n",
        "\"Therefore we can reject the null hypothesis\"\r\n"
      ],
      "execution_count": null,
      "outputs": [
        {
          "output_type": "display_data",
          "data": {
            "text/plain": [
              "[1] \"samesex might not be a valid instrument for morekids if it does not meet the exogeneity condition\""
            ],
            "text/latex": "'samesex might not be a valid instrument for morekids if it does not meet the exogeneity condition'",
            "text/markdown": "'samesex might not be a valid instrument for morekids if it does not meet the exogeneity condition'",
            "text/html": [
              "'samesex might not be a valid instrument for morekids if it does not meet the exogeneity condition'"
            ]
          },
          "metadata": {
            "tags": []
          }
        },
        {
          "output_type": "display_data",
          "data": {
            "text/plain": [
              "[1] \"samesex is exogenously assigned (assigned as if random) but may not only affect labour supply through morekids:\""
            ],
            "text/latex": "'samesex is exogenously assigned (assigned as if random) but may not only affect labour supply through morekids:'",
            "text/markdown": "'samesex is exogenously assigned (assigned as if random) but may not only affect labour supply through morekids:'",
            "text/html": [
              "'samesex is exogenously assigned (assigned as if random) but may not only affect labour supply through morekids:'"
            ]
          },
          "metadata": {
            "tags": []
          }
        },
        {
          "output_type": "display_data",
          "data": {
            "text/plain": [
              "[1] \"It could be that having children of different sexes means more work for the mother, e.g. ferrying them to different activities, resulting in correlation between samesex and weeksm1\""
            ],
            "text/latex": "'It could be that having children of different sexes means more work for the mother, e.g. ferrying them to different activities, resulting in correlation between samesex and weeksm1'",
            "text/markdown": "'It could be that having children of different sexes means more work for the mother, e.g. ferrying them to different activities, resulting in correlation between samesex and weeksm1'",
            "text/html": [
              "'It could be that having children of different sexes means more work for the mother, e.g. ferrying them to different activities, resulting in correlation between samesex and weeksm1'"
            ]
          },
          "metadata": {
            "tags": []
          }
        },
        {
          "output_type": "display_data",
          "data": {
            "text/plain": [
              "  Res.Df Df F       Pr(>F)      \n",
              "1 254653 NA      NA           NA\n",
              "2 254652  1 24.1957 8.708031e-07"
            ],
            "text/latex": "A anova: 2 × 4\n\\begin{tabular}{r|llll}\n  & Res.Df & Df & F & Pr(>F)\\\\\n  & <dbl> & <dbl> & <dbl> & <dbl>\\\\\n\\hline\n\t1 & 254653 & NA &      NA &           NA\\\\\n\t2 & 254652 &  1 & 24.1957 & 8.708031e-07\\\\\n\\end{tabular}\n",
            "text/markdown": "\nA anova: 2 × 4\n\n| <!--/--> | Res.Df &lt;dbl&gt; | Df &lt;dbl&gt; | F &lt;dbl&gt; | Pr(&gt;F) &lt;dbl&gt; |\n|---|---|---|---|---|\n| 1 | 254653 | NA |      NA |           NA |\n| 2 | 254652 |  1 | 24.1957 | 8.708031e-07 |\n\n",
            "text/html": [
              "<table>\n",
              "<caption>A anova: 2 × 4</caption>\n",
              "<thead>\n",
              "\t<tr><th></th><th scope=col>Res.Df</th><th scope=col>Df</th><th scope=col>F</th><th scope=col>Pr(&gt;F)</th></tr>\n",
              "\t<tr><th></th><th scope=col>&lt;dbl&gt;</th><th scope=col>&lt;dbl&gt;</th><th scope=col>&lt;dbl&gt;</th><th scope=col>&lt;dbl&gt;</th></tr>\n",
              "</thead>\n",
              "<tbody>\n",
              "\t<tr><th scope=row>1</th><td>254653</td><td>NA</td><td>     NA</td><td>          NA</td></tr>\n",
              "\t<tr><th scope=row>2</th><td>254652</td><td> 1</td><td>24.1957</td><td>8.708031e-07</td></tr>\n",
              "</tbody>\n",
              "</table>\n"
            ]
          },
          "metadata": {
            "tags": []
          }
        },
        {
          "output_type": "display_data",
          "data": {
            "text/plain": [
              "[1] \"24.1957035172991 > 10\""
            ],
            "text/latex": "'24.1957035172991 > 10'",
            "text/markdown": "'24.1957035172991 &gt; 10'",
            "text/html": [
              "'24.1957035172991 &gt; 10'"
            ]
          },
          "metadata": {
            "tags": []
          }
        },
        {
          "output_type": "display_data",
          "data": {
            "text/plain": [
              "[1] \"Therefore we can reject the null hypothesis\""
            ],
            "text/latex": "'Therefore we can reject the null hypothesis'",
            "text/markdown": "'Therefore we can reject the null hypothesis'",
            "text/html": [
              "'Therefore we can reject the null hypothesis'"
            ]
          },
          "metadata": {
            "tags": []
          }
        }
      ]
    },
    {
      "cell_type": "markdown",
      "metadata": {
        "id": "m_H97kfnVfk6"
      },
      "source": [
        "# 2SLS"
      ]
    },
    {
      "cell_type": "code",
      "metadata": {
        "id": "l-4hLBsaYoe0",
        "colab": {
          "base_uri": "https://localhost:8080/",
          "height": 489
        },
        "outputId": "55e9b865-df1c-4700-e3df-564e6cfc71d9"
      },
      "source": [
        "# e)\r\n",
        "# 2SLS manually\r\n",
        "# Model: y = B0 + B1Xi + Ui\r\n",
        "# weeksm1 ~ morekids\r\n",
        "# Regress morekids on the instrument to calculate fitted values\r\n",
        "fsls <- lm_robust(formula = morekids ~ samesex, data = fert)\r\n",
        "summary(fsls)\r\n",
        "# how are fitted values different from morekids?\r\n",
        "morekids_hat = fitted.values(fsls)\r\n",
        "tsls <- lm_robust(formula = weeksm1 ~ morekids_hat, data = fert)\r\n",
        "summary(tsls)\r\n"
      ],
      "execution_count": null,
      "outputs": [
        {
          "output_type": "display_data",
          "data": {
            "text/plain": [
              "\n",
              "Call:\n",
              "lm_robust(formula = morekids ~ samesex, data = fert)\n",
              "\n",
              "Standard error type:  HC2 \n",
              "\n",
              "Coefficients:\n",
              "            Estimate Std. Error t value   Pr(>|t|) CI Lower CI Upper     DF\n",
              "(Intercept)  0.34642   0.001341  258.34  0.000e+00  0.34380  0.34905 254652\n",
              "samesex      0.06753   0.001919   35.19 1.388e-270  0.06376  0.07129 254652\n",
              "\n",
              "Multiple R-squared:  0.004835 ,\tAdjusted R-squared:  0.004831 \n",
              "F-statistic:  1238 on 1 and 254652 DF,  p-value: < 2.2e-16"
            ]
          },
          "metadata": {
            "tags": []
          }
        },
        {
          "output_type": "display_data",
          "data": {
            "text/plain": [
              "\n",
              "Call:\n",
              "lm_robust(formula = weeksm1 ~ morekids_hat, data = fert)\n",
              "\n",
              "Standard error type:  HC2 \n",
              "\n",
              "Coefficients:\n",
              "             Estimate Std. Error t value  Pr(>|t|) CI Lower CI Upper     DF\n",
              "(Intercept)    21.421     0.4906  43.663 0.000e+00   20.460   22.383 254652\n",
              "morekids_hat   -6.314     1.2836  -4.919 8.708e-07   -8.829   -3.798 254652\n",
              "\n",
              "Multiple R-squared:  9.502e-05 ,\tAdjusted R-squared:  9.109e-05 \n",
              "F-statistic:  24.2 on 1 and 254652 DF,  p-value: 8.708e-07"
            ]
          },
          "metadata": {
            "tags": []
          }
        }
      ]
    },
    {
      "cell_type": "code",
      "metadata": {
        "id": "mBj3AkD49XXr",
        "colab": {
          "base_uri": "https://localhost:8080/",
          "height": 433
        },
        "outputId": "7e33e2ef-b90e-4197-cb48-9f18292a4cf4"
      },
      "source": [
        "# e) using packages\r\n",
        "# iv_robust(formula = y_var ~ endog + ctrl1 + ctrl2 | instr1 + instr2 + ctrl1 + ctrl2, data = data, diagnostics = TRUE)\r\n",
        "# endogenous variable to be instrumented for on the left of the vertical pipe only\r\n",
        "# instruments on the right of the vertical pipe only\r\n",
        "# control variables (neither instruments nor endogenous variables to be instrumented for) on both sides of the vertical pipe\r\n",
        "ivreg <- iv_robust(formula = weeksm1 ~ morekids | samesex, diagnostics=TRUE)\r\n",
        "iv_sum <- summary(ivreg)\r\n",
        "iv_sum\r\n",
        "sprintf('SE of 2SLS (%s) >> SE of OLS (%s): samesex is not a valid instrument as explained in d)', iv_sum$coefficient[\"morekids\", \"Std. Error\"], ad_err)\r\n",
        "'Estimate of -6.3 from 2SLS vs -5.3 from OLS:'"
      ],
      "execution_count": null,
      "outputs": [
        {
          "output_type": "display_data",
          "data": {
            "text/plain": [
              "\n",
              "Call:\n",
              "iv_robust(formula = weeksm1 ~ morekids | samesex, diagnostics = TRUE)\n",
              "\n",
              "Standard error type:  HC2 \n",
              "\n",
              "Coefficients:\n",
              "            Estimate Std. Error t value  Pr(>|t|) CI Lower CI Upper     DF\n",
              "(Intercept)   21.421     0.4873  43.963 0.000e+00   20.466   22.376 254652\n",
              "morekids      -6.314     1.2747  -4.953 7.308e-07   -8.812   -3.815 254652\n",
              "\n",
              "Multiple R-squared:  0.01388 ,\tAdjusted R-squared:  0.01388 \n",
              "F-statistic: 24.53 on 1 and 254652 DF,  p-value: 7.308e-07\n",
              "\n",
              "Diagnostics:\n",
              "                  numdf  dendf    value p.value    \n",
              "Weak instruments      1 254652 1238.171  <2e-16 ***\n",
              "Wu-Hausman            1 254651    0.531   0.466    \n",
              "Overidentifying       0     NA       NA      NA    \n",
              "---\n",
              "Signif. codes:  0 ‘***’ 0.001 ‘**’ 0.01 ‘*’ 0.05 ‘.’ 0.1 ‘ ’ 1"
            ]
          },
          "metadata": {
            "tags": []
          }
        },
        {
          "output_type": "display_data",
          "data": {
            "text/plain": [
              "[1] \"SE of 2SLS (1.27468565210554) >> SE of OLS (0.0871491793698437): samesex is not a valid instrument as explained in d)\""
            ],
            "text/latex": "'SE of 2SLS (1.27468565210554) >> SE of OLS (0.0871491793698437): samesex is not a valid instrument as explained in d)'",
            "text/markdown": "'SE of 2SLS (1.27468565210554) &gt;&gt; SE of OLS (0.0871491793698437): samesex is not a valid instrument as explained in d)'",
            "text/html": [
              "'SE of 2SLS (1.27468565210554) &gt;&gt; SE of OLS (0.0871491793698437): samesex is not a valid instrument as explained in d)'"
            ]
          },
          "metadata": {
            "tags": []
          }
        },
        {
          "output_type": "display_data",
          "data": {
            "text/plain": [
              "[1] \"Estimate of -6.3 from 2SLS vs -5.3 from OLS:\""
            ],
            "text/latex": "'Estimate of -6.3 from 2SLS vs -5.3 from OLS:'",
            "text/markdown": "'Estimate of -6.3 from 2SLS vs -5.3 from OLS:'",
            "text/html": [
              "'Estimate of -6.3 from 2SLS vs -5.3 from OLS:'"
            ]
          },
          "metadata": {
            "tags": []
          }
        }
      ]
    },
    {
      "cell_type": "code",
      "metadata": {
        "id": "7oKAy499CPHZ",
        "colab": {
          "base_uri": "https://localhost:8080/",
          "height": 722
        },
        "outputId": "65f3b3c9-533f-4378-cf5e-c1c8654a20fb"
      },
      "source": [
        "# f) manually\r\n",
        "# othrace does not include white so no perfect multicollinearity with black, hispan, and othrace\r\n",
        "# missed out age!!!\r\n",
        "sum(fert$black)\r\n",
        "sum(fert$othrace)\r\n",
        "sum(fert$hispan)\r\n",
        "fsls <- lm_robust(formula = morekids ~ samesex + black + hispan + othrace, data = fert)\r\n",
        "summary(fsls)\r\n",
        "# without controls, fitted.values(fsls) would also give morekids_hat; with controls it is shorter in length than the other variables\r\n",
        "morekids_hat <- predict(fsls)\r\n",
        "length(morekids_hat)\r\n",
        "length(othrace)\r\n",
        "tsls <- lm_robust(formula = weeksm1 ~ morekids_hat + black + hispan + othrace, data = fert)\r\n",
        "summary(tsls)"
      ],
      "execution_count": 20,
      "outputs": [
        {
          "output_type": "display_data",
          "data": {
            "text/plain": [
              "[1] NA"
            ],
            "text/latex": "<NA>",
            "text/markdown": "&lt;NA&gt;",
            "text/html": [
              "&lt;NA&gt;"
            ]
          },
          "metadata": {
            "tags": []
          }
        },
        {
          "output_type": "display_data",
          "data": {
            "text/plain": [
              "[1] NA"
            ],
            "text/latex": "<NA>",
            "text/markdown": "&lt;NA&gt;",
            "text/html": [
              "&lt;NA&gt;"
            ]
          },
          "metadata": {
            "tags": []
          }
        },
        {
          "output_type": "display_data",
          "data": {
            "text/plain": [
              "[1] NA"
            ],
            "text/latex": "<NA>",
            "text/markdown": "&lt;NA&gt;",
            "text/html": [
              "&lt;NA&gt;"
            ]
          },
          "metadata": {
            "tags": []
          }
        },
        {
          "output_type": "display_data",
          "data": {
            "text/plain": [
              "\n",
              "Call:\n",
              "lm_robust(formula = morekids ~ samesex + black + hispan + othrace, \n",
              "    data = fert)\n",
              "\n",
              "Standard error type:  HC2 \n",
              "\n",
              "Coefficients:\n",
              "            Estimate Std. Error t value   Pr(>|t|) CI Lower CI Upper     DF\n",
              "(Intercept)  0.33123   0.001183 279.949  0.000e+00  0.32891  0.33355 347755\n",
              "samesex      0.06905   0.001637  42.187  0.000e+00  0.06584  0.07226 347755\n",
              "black        0.09240   0.003838  24.078 5.438e-128  0.08488  0.09992 347755\n",
              "hispan       0.14933   0.003616  41.300  0.000e+00  0.14224  0.15642 347755\n",
              "othrace      0.02390   0.004138   5.776  7.666e-09  0.01579  0.03201 347755\n",
              "\n",
              "Multiple R-squared:  0.01346 ,\tAdjusted R-squared:  0.01345 \n",
              "F-statistic:  1162 on 4 and 347755 DF,  p-value: < 2.2e-16"
            ]
          },
          "metadata": {
            "tags": []
          }
        },
        {
          "output_type": "display_data",
          "data": {
            "text/plain": [
              "[1] 347764"
            ],
            "text/latex": "347764",
            "text/markdown": "347764",
            "text/html": [
              "347764"
            ]
          },
          "metadata": {
            "tags": []
          }
        },
        {
          "output_type": "display_data",
          "data": {
            "text/plain": [
              "[1] 347764"
            ],
            "text/latex": "347764",
            "text/markdown": "347764",
            "text/html": [
              "347764"
            ]
          },
          "metadata": {
            "tags": []
          }
        },
        {
          "output_type": "display_data",
          "data": {
            "text/plain": [
              "\n",
              "Call:\n",
              "lm_robust(formula = weeksm1 ~ morekids_hat + black + hispan + \n",
              "    othrace, data = fert)\n",
              "\n",
              "Standard error type:  HC2 \n",
              "\n",
              "Coefficients:\n",
              "             Estimate Std. Error t value  Pr(>|t|) CI Lower CI Upper     DF\n",
              "(Intercept)  20.77688     0.3934 52.8079 0.000e+00  20.0057  21.5480 347755\n",
              "morekids_hat -6.27328     1.0682 -5.8726 4.295e-09  -8.3670  -4.1796 347755\n",
              "black        11.41072     0.1980 57.6399 0.000e+00  11.0227  11.7987 347755\n",
              "hispan        0.02556     0.2255  0.1133 9.098e-01  -0.4164   0.4675 347755\n",
              "othrace       1.71770     0.1891  9.0836 1.056e-19   1.3471   2.0883 347755\n",
              "\n",
              "Multiple R-squared:  0.01214 ,\tAdjusted R-squared:  0.01213 \n",
              "F-statistic:  1018 on 4 and 347755 DF,  p-value: < 2.2e-16"
            ]
          },
          "metadata": {
            "tags": []
          }
        }
      ]
    },
    {
      "cell_type": "code",
      "metadata": {
        "colab": {
          "base_uri": "https://localhost:8080/",
          "height": 271
        },
        "id": "gIR1UoXyRMIH",
        "outputId": "c28fd6c5-8030-4048-e456-805cdf5d8d66"
      },
      "source": [
        "# f)\r\n",
        "iv_robust(weeksm1 ~ morekids + agem1 + black + hispan + othrace | samesex  + agem1 + black + hispan + othrace, data = fert, diagnostics = TRUE)"
      ],
      "execution_count": null,
      "outputs": [
        {
          "output_type": "display_data",
          "data": {
            "text/plain": [
              "              Estimate Std. Error    t value      Pr(>|t|)   CI Lower\n",
              "(Intercept) -4.7918935 0.38979270 -12.293441  1.004902e-34 -5.5558768\n",
              "morekids    -5.8210509 1.24640073  -4.670288  3.009303e-06 -8.2639631\n",
              "agem1        0.8315975 0.02264086  36.729935 1.446269e-294  0.7872220\n",
              "black       11.6232731 0.23180281  50.142934  0.000000e+00 11.1689458\n",
              "hispan       0.4041802 0.26080282   1.549754  1.212018e-01 -0.1069863\n",
              "othrace      2.1309620 0.21099514  10.099579  5.606068e-24  1.7174172\n",
              "              CI Upper     DF\n",
              "(Intercept) -4.0279102 254648\n",
              "morekids    -3.3781388 254648\n",
              "agem1        0.8759730 254648\n",
              "black       12.0776004 254648\n",
              "hispan       0.9153468 254648\n",
              "othrace      2.5445068 254648"
            ]
          },
          "metadata": {
            "tags": []
          }
        }
      ]
    },
    {
      "cell_type": "code",
      "metadata": {
        "id": "t6Ff-oAIHH-l",
        "colab": {
          "base_uri": "https://localhost:8080/",
          "height": 834
        },
        "outputId": "6a3fa7c1-8885-4dad-aeb0-16077f68b09c"
      },
      "source": [
        "# g)\r\n",
        "# perfect multicollinearity of samesex and two_male and two_female?\r\n",
        "# Two_male: is the first child a girl? If girl, then 0. If boy, then if samesex, then 1. If boy but not samesex, then 0.\r\n",
        "two_male <- ifelse((fert$boy1st==0), 0, ifelse((fert$samesex==1), 1, 0))\r\n",
        "two_female <- ifelse((fert$boy1st==1), 0, ifelse((fert$samesex==1), 1, 0))\r\n",
        "#two_male\r\n",
        "#two_female\r\n",
        "\r\n",
        "# adding/excluding samesex does not change anything\r\n",
        "ivreg <- iv_robust(formula = weeksm1 ~ morekids | samesex + black + hispan + othrace + two_male + two_female, diagnostics=TRUE)\r\n",
        "summary (ivreg)\r\n",
        "\r\n",
        "\r\n",
        "ivreg <- iv_robust(formula = weeksm1 ~ morekids | two_male + two_female, diagnostics=TRUE)\r\n",
        "summary (ivreg)\r\n",
        "'The regression with just two_male and two_female as instruments, unsurprisingly, gives very similar estimates to the regression using samesex as an instrument.'"
      ],
      "execution_count": 21,
      "outputs": [
        {
          "output_type": "display_data",
          "data": {
            "text/plain": [
              "\n",
              "Call:\n",
              "iv_robust(formula = weeksm1 ~ morekids | samesex + black + hispan + \n",
              "    othrace + two_male + two_female, diagnostics = TRUE)\n",
              "\n",
              "Standard error type:  HC2 \n",
              "\n",
              "Coefficients:\n",
              "            Estimate Std. Error t value  Pr(>|t|) CI Lower CI Upper     DF\n",
              "(Intercept)    15.11     0.2675   56.50 0.000e+00   14.590    15.64 347758\n",
              "morekids       10.27     0.6923   14.83 9.835e-50    8.909    11.62 347758\n",
              "\n",
              "Multiple R-squared:  -0.1068 ,\tAdjusted R-squared:  -0.1068 \n",
              "F-statistic: 219.9 on 1 and 347758 DF,  p-value: < 2.2e-16\n",
              "\n",
              "Diagnostics:\n",
              "                  numdf  dendf value p.value    \n",
              "Weak instruments      6 347753    NA      NA    \n",
              "Wu-Hausman            2 347756   301  <2e-16 ***\n",
              "Overidentifying       5     NA  3026  <2e-16 ***\n",
              "---\n",
              "Signif. codes:  0 ‘***’ 0.001 ‘**’ 0.01 ‘*’ 0.05 ‘.’ 0.1 ‘ ’ 1"
            ]
          },
          "metadata": {
            "tags": []
          }
        },
        {
          "output_type": "display_data",
          "data": {
            "text/plain": [
              "\n",
              "Call:\n",
              "iv_robust(formula = weeksm1 ~ morekids | two_male + two_female, \n",
              "    diagnostics = TRUE)\n",
              "\n",
              "Standard error type:  HC2 \n",
              "\n",
              "Coefficients:\n",
              "            Estimate Std. Error t value  Pr(>|t|) CI Lower CI Upper     DF\n",
              "(Intercept)   21.369     0.4019  53.170 0.000e+00   20.581    22.16 347759\n",
              "morekids      -6.059     1.0450  -5.798 6.723e-09   -8.107    -4.01 347759\n",
              "\n",
              "Multiple R-squared:  0.01422 ,\tAdjusted R-squared:  0.01422 \n",
              "F-statistic: 33.61 on 1 and 347759 DF,  p-value: 6.723e-09\n",
              "\n",
              "Diagnostics:\n",
              "                  numdf  dendf   value p.value    \n",
              "Weak instruments      2 347758 916.994  <2e-16 ***\n",
              "Wu-Hausman            1 347758   0.391  0.5320    \n",
              "Overidentifying       1     NA   3.317  0.0686 .  \n",
              "---\n",
              "Signif. codes:  0 ‘***’ 0.001 ‘**’ 0.01 ‘*’ 0.05 ‘.’ 0.1 ‘ ’ 1"
            ]
          },
          "metadata": {
            "tags": []
          }
        },
        {
          "output_type": "display_data",
          "data": {
            "text/plain": [
              "[1] \"The regression with just two_male and two_female as instruments, unsurprisingly, gives very similar estimates to the regression using samesex as an instrument.\""
            ],
            "text/latex": "'The regression with just two\\_male and two\\_female as instruments, unsurprisingly, gives very similar estimates to the regression using samesex as an instrument.'",
            "text/markdown": "'The regression with just two_male and two_female as instruments, unsurprisingly, gives very similar estimates to the regression using samesex as an instrument.'",
            "text/html": [
              "'The regression with just two_male and two_female as instruments, unsurprisingly, gives very similar estimates to the regression using samesex as an instrument.'"
            ]
          },
          "metadata": {
            "tags": []
          }
        }
      ]
    },
    {
      "cell_type": "code",
      "metadata": {
        "id": "R8EyAu24VXnU"
      },
      "source": [
        "# Peter's dummies use logical operations on dummy values converting them to Booleans\r\n",
        "two_boys <- as.numeric( fert$samesex & fert$boy1st )\r\n",
        "two_girls <- as.numeric( fert$samesex & !fert$boy1st )"
      ],
      "execution_count": null,
      "outputs": []
    },
    {
      "cell_type": "code",
      "metadata": {
        "id": "rUIRjE3QUlm0",
        "colab": {
          "base_uri": "https://localhost:8080/",
          "height": 508
        },
        "outputId": "217c61c8-fe16-4016-8842-15aceb9fc5c3"
      },
      "source": [
        "# Peter's iv_robust() with diff variables names\r\n",
        "summary(iv_robust(weeksm1 ~ morekids + agem1 + black + hispan + othrace | two_male + two_female + agem1 + black + hispan + othrace, data = fert, diagnostics = TRUE))\r\n"
      ],
      "execution_count": 23,
      "outputs": [
        {
          "output_type": "display_data",
          "data": {
            "text/plain": [
              "\n",
              "Call:\n",
              "iv_robust(formula = weeksm1 ~ morekids + agem1 + black + hispan + \n",
              "    othrace | two_male + two_female + agem1 + black + hispan + \n",
              "    othrace, data = fert, diagnostics = TRUE)\n",
              "\n",
              "Standard error type:  HC2 \n",
              "\n",
              "Coefficients:\n",
              "            Estimate Std. Error t value  Pr(>|t|) CI Lower CI Upper     DF\n",
              "(Intercept)  -4.8739    0.32952 -14.791 1.732e-49  -5.5198  -4.2281 347754\n",
              "morekids     -5.6072    1.02126  -5.490 4.011e-08  -7.6088  -3.6056 347754\n",
              "agem1         0.8340    0.01873  44.531 0.000e+00   0.7973   0.8707 347754\n",
              "black        11.8018    0.19660  60.031 0.000e+00  11.4165  12.1871 347754\n",
              "hispan        0.6123    0.22808   2.685 7.260e-03   0.1653   1.0593 347754\n",
              "othrace       1.7996    0.18602   9.674 3.910e-22   1.4350   2.1642 347754\n",
              "\n",
              "Multiple R-squared:  0.0442 ,\tAdjusted R-squared:  0.04419 \n",
              "F-statistic:  1940 on 5 and 347754 DF,  p-value: < 2.2e-16\n",
              "\n",
              "Diagnostics:\n",
              "                  numdf  dendf   value p.value    \n",
              "Weak instruments      2 347753 949.507  <2e-16 ***\n",
              "Wu-Hausman            1 347753   0.409  0.5224    \n",
              "Overidentifying       1     NA   3.455  0.0631 .  \n",
              "---\n",
              "Signif. codes:  0 ‘***’ 0.001 ‘**’ 0.01 ‘*’ 0.05 ‘.’ 0.1 ‘ ’ 1"
            ]
          },
          "metadata": {
            "tags": []
          }
        }
      ]
    },
    {
      "cell_type": "code",
      "metadata": {
        "id": "3dhZCj6cO8fv"
      },
      "source": [
        "# h)\r\n",
        "'p value of 0.06 > 0.05 in Overidentifying restrictions means that there is not sufficient evidence at the 5% significance level to reject the null of exogeneity for two_male and two_female as instrumental variables'\r\n",
        "'You do not want to reject exogeneity'"
      ],
      "execution_count": null,
      "outputs": []
    },
    {
      "cell_type": "code",
      "metadata": {
        "colab": {
          "base_uri": "https://localhost:8080/",
          "height": 308
        },
        "id": "vxA8VF0j1cna",
        "outputId": "f0a5b1cc-045c-4097-c5d7-6a266d859e17"
      },
      "source": [
        "summary(lm_robust(formula = two_female ~ agem1 + black + hispan + othrace))"
      ],
      "execution_count": 27,
      "outputs": [
        {
          "output_type": "display_data",
          "data": {
            "text/plain": [
              "\n",
              "Call:\n",
              "lm_robust(formula = two_female ~ agem1 + black + hispan + othrace)\n",
              "\n",
              "Standard error type:  HC2 \n",
              "\n",
              "Coefficients:\n",
              "              Estimate Std. Error t value Pr(>|t|)  CI Lower   CI Upper     DF\n",
              "(Intercept)  0.2584244  0.0065907 39.2104 0.000000  0.245507  0.2713420 347755\n",
              "agem1       -0.0006302  0.0002147 -2.9349 0.003337 -0.001051 -0.0002093 347755\n",
              "black        0.0020993  0.0033049  0.6352 0.525285 -0.004378  0.0085769 347755\n",
              "hispan       0.0048124  0.0031266  1.5392 0.123763 -0.001316  0.0109406 347755\n",
              "othrace     -0.0063889  0.0035841 -1.7826 0.074660 -0.013414  0.0006359 347755\n",
              "\n",
              "Multiple R-squared:  3.881e-05 ,\tAdjusted R-squared:  2.731e-05 \n",
              "F-statistic: 3.365 on 4 and 347755 DF,  p-value: 0.009234"
            ]
          },
          "metadata": {
            "tags": []
          }
        }
      ]
    }
  ]
}