{
  "nbformat": 4,
  "nbformat_minor": 0,
  "metadata": {
    "colab": {
      "name": "QE PS2 Q16 (R)",
      "provenance": [],
      "collapsed_sections": [],
      "authorship_tag": "ABX9TyOc+f9GzOJmHdcVDQTlLZdq",
      "include_colab_link": true
    },
    "kernelspec": {
      "name": "ir",
      "display_name": "R"
    }
  },
  "cells": [
    {
      "cell_type": "markdown",
      "metadata": {
        "id": "view-in-github",
        "colab_type": "text"
      },
      "source": [
        "<a href=\"https://colab.research.google.com/github/Latindude101/Quantitative-Economics/blob/main/QE_PS2_Q16_(R).ipynb\" target=\"_parent\"><img src=\"https://colab.research.google.com/assets/colab-badge.svg\" alt=\"Open In Colab\"/></a>"
      ]
    },
    {
      "cell_type": "code",
      "metadata": {
        "id": "WgyTQ34wCUxj"
      },
      "source": [
        "# Question 16, Problem Set 2\r\n",
        "tsa = read.csv('tsadata.csv')"
      ],
      "execution_count": null,
      "outputs": []
    },
    {
      "cell_type": "code",
      "metadata": {
        "id": "ZeJ16bPjDNdl",
        "colab": {
          "base_uri": "https://localhost:8080/",
          "height": 52
        },
        "outputId": "ff60d6a3-cee6-4580-9779-5edea263970a"
      },
      "source": [
        "# b) Estimates:\r\n",
        "mean(tsa$TSA)\r\n",
        "sd(tsa$TSA)"
      ],
      "execution_count": null,
      "outputs": [
        {
          "output_type": "display_data",
          "data": {
            "text/plain": [
              "[1] 61.05055"
            ],
            "text/latex": "61.0505517318436",
            "text/markdown": "61.0505517318436",
            "text/html": [
              "61.0505517318436"
            ]
          },
          "metadata": {
            "tags": []
          }
        },
        {
          "output_type": "display_data",
          "data": {
            "text/plain": [
              "[1] 9.278309"
            ],
            "text/latex": "9.27830893408666",
            "text/markdown": "9.27830893408666",
            "text/html": [
              "9.27830893408666"
            ]
          },
          "metadata": {
            "tags": []
          }
        }
      ]
    },
    {
      "cell_type": "code",
      "metadata": {
        "id": "f-RlTFLbDYBJ"
      },
      "source": [
        "# a)\r\n",
        "hist(tsa$TSA, freq = FALSE, main=\"TSA Score Frequency\", xlab=\"TSA Score\")\r\n",
        "# c) Yes, the normal distribution captures most of the data\r\n",
        "curve(dnorm(x, m=mean(tsa$TSA), sd=sd(tsa$TSA)), add = TRUE, col='red')\r\n",
        "\r\n",
        "# can make the histogram go from the lowest to the highest\r\n",
        "min_tsa = mix(tsa$TSA)\r\n",
        "max_tsa = max(tsa$TSA)\r\n",
        "#from = min_tsa, to = max_tsa,\r\n"
      ],
      "execution_count": null,
      "outputs": []
    },
    {
      "cell_type": "code",
      "metadata": {
        "id": "EdnzXKy2Dd8U"
      },
      "source": [
        "# d) i) Females vs Males\r\n",
        "hist(tsa$TSA[tsa$Gender=='F'], freq = FALSE, col='red', xlab=\"TSA Score\", main=\"TSA Score Frequency\")\r\n",
        "curve(dnorm(x, m=mean(tsa$TSA[tsa$Gender=='F']), sd=sd(tsa$TSA[tsa$Gender=='F'])), add = TRUE, col='pink', lwd=4)\r\n",
        "hist(tsa$TSA[tsa$Gender=='M'], freq = FALSE, add=TRUE, col=rgb(0, 0, 0, 0.5))\r\n",
        "curve(dnorm(x, m=mean(tsa$TSA[tsa$Gender=='M']), sd=sd(tsa$TSA[tsa$Gender=='M'])), add = TRUE, col='blue', lwd=4)"
      ],
      "execution_count": null,
      "outputs": []
    },
    {
      "cell_type": "code",
      "metadata": {
        "id": "GObFiTLwDhTv"
      },
      "source": [
        "# d) ii) Three School Types\r\n",
        "curve(dnorm(x, m=mean(tsa$TSA[tsa$SchoolType=='I']), sd=sd(tsa$TSA[tsa$SchoolType=='I'])), xlab=\"TSA Score\", ylab=\"Frequency Density\", main=\"TSA Score Frequency\", to=100, col='pink', lwd=2)\r\n",
        "curve(dnorm(x, m=mean(tsa$TSA[tsa$SchoolType=='S']), sd=sd(tsa$TSA[tsa$SchoolType=='S'])), col='red', lwd=2, add=T)\r\n",
        "curve(dnorm(x, m=mean(tsa$TSA[tsa$SchoolType=='O']), sd=sd(tsa$TSA[tsa$SchoolType=='O'])), col='black', lwd=2, add=T)\r\n",
        "legend(1, 0.035, legend=c(\"School I\", \"School S\", \"School O\"), col=c(\"pink\", \"red\", \"black\"), lty=1, cex=1.5)"
      ],
      "execution_count": null,
      "outputs": []
    },
    {
      "cell_type": "code",
      "metadata": {
        "id": "ZeAQfPZeDlI9"
      },
      "source": [
        "# d) iii) Admitted vs Rejected\r\n",
        "curve(dnorm(x, m=mean(tsa$TSA[tsa$Admit=='0']), sd=sd(tsa$TSA[tsa$Admit=='0'])), xlab=\"TSA Score\", ylab=\"Frequency Density\", main=\"TSA Score Frequency\", to=100, col='red', lwd=2)\r\n",
        "curve(dnorm(x, m=mean(tsa$TSA[tsa$Admit=='1']), sd=sd(tsa$TSA[tsa$Admit=='1'])), col='green', lwd=2, add=T)\r\n",
        "legend(1, 0.035, legend=c(\"Not admitted\", \"Admitted\"), col=c(\"red\", \"green\"), lty=1, cex=1.5)"
      ],
      "execution_count": null,
      "outputs": []
    },
    {
      "cell_type": "code",
      "metadata": {
        "id": "V8cxThjhDojH",
        "colab": {
          "base_uri": "https://localhost:8080/",
          "height": 338
        },
        "outputId": "44f0b6b5-3094-4f93-a994-e0de1521e76e"
      },
      "source": [
        "# e) i) Comparing Genders\r\n",
        "'Instead use t.test() function'\r\n",
        "# in t.test() if you try to calculate the means the wrong way round, the p value will be close to one\r\n",
        "# e.g. the hopeless test of whether the female mean is higher than male means (when men perform better)\r\n",
        "std_error = sqrt((var(tsa$TSA[tsa$Gender=='F'])/sum(with(tsa, Gender=='F'))) + (var(tsa$TSA[tsa$Gender=='M'])/sum(with(tsa, Gender=='M'))))\r\n",
        "t_stat = (mean(tsa$TSA[tsa$Gender=='M']) - mean(tsa$TSA[tsa$Gender=='F']))/std_error\r\n",
        "std_error\r\n",
        "t_stat\r\n",
        "\r\n",
        "ttest <- t.test(tsa$TSA[tsa$Gender=='M'], tsa$TSA[tsa$Gender=='F'])\r\n",
        "ttest\r\n",
        "ttest$statistic"
      ],
      "execution_count": null,
      "outputs": [
        {
          "output_type": "display_data",
          "data": {
            "text/plain": [
              "[1] \"Instead use t.test() function\""
            ],
            "text/latex": "'Instead use t.test() function'",
            "text/markdown": "'Instead use t.test() function'",
            "text/html": [
              "'Instead use t.test() function'"
            ]
          },
          "metadata": {
            "tags": []
          }
        },
        {
          "output_type": "display_data",
          "data": {
            "text/plain": [
              "[1] 0.489778"
            ],
            "text/latex": "0.489777958631238",
            "text/markdown": "0.489777958631238",
            "text/html": [
              "0.489777958631238"
            ]
          },
          "metadata": {
            "tags": []
          }
        },
        {
          "output_type": "display_data",
          "data": {
            "text/plain": [
              "[1] 7.480257"
            ],
            "text/latex": "7.48025658695633",
            "text/markdown": "7.48025658695633",
            "text/html": [
              "7.48025658695633"
            ]
          },
          "metadata": {
            "tags": []
          }
        },
        {
          "output_type": "display_data",
          "data": {
            "text/plain": [
              "\n",
              "\tWelch Two Sample t-test\n",
              "\n",
              "data:  tsa$TSA[tsa$Gender == \"M\"] and tsa$TSA[tsa$Gender == \"F\"]\n",
              "t = 7.4803, df = 1210.4, p-value = 1.421e-13\n",
              "alternative hypothesis: true difference in means is not equal to 0\n",
              "95 percent confidence interval:\n",
              " 2.702757 4.624573\n",
              "sample estimates:\n",
              "mean of x mean of y \n",
              " 62.46792  58.80425 \n"
            ]
          },
          "metadata": {
            "tags": []
          }
        },
        {
          "output_type": "display_data",
          "data": {
            "text/plain": [
              "       t \n",
              "7.480257 "
            ],
            "text/latex": "\\textbf{t:} 7.48025658695633",
            "text/markdown": "**t:** 7.48025658695633",
            "text/html": [
              "<strong>t:</strong> 7.48025658695633"
            ]
          },
          "metadata": {
            "tags": []
          }
        },
        {
          "output_type": "display_data",
          "data": {
            "text/plain": [
              "      df \n",
              "1210.422 "
            ],
            "text/latex": "\\textbf{df:} 1210.42171455314",
            "text/markdown": "**df:** 1210.42171455314",
            "text/html": [
              "<strong>df:</strong> 1210.42171455314"
            ]
          },
          "metadata": {
            "tags": []
          }
        },
        {
          "output_type": "display_data",
          "data": {
            "text/plain": [
              "[1] \"two.sided\""
            ],
            "text/latex": "'two.sided'",
            "text/markdown": "'two.sided'",
            "text/html": [
              "'two.sided'"
            ]
          },
          "metadata": {
            "tags": []
          }
        },
        {
          "output_type": "display_data",
          "data": {
            "text/plain": [
              "[1] \"Welch Two Sample t-test\""
            ],
            "text/latex": "'Welch Two Sample t-test'",
            "text/markdown": "'Welch Two Sample t-test'",
            "text/html": [
              "'Welch Two Sample t-test'"
            ]
          },
          "metadata": {
            "tags": []
          }
        }
      ]
    },
    {
      "cell_type": "code",
      "metadata": {
        "id": "gOB6moV3Dr28",
        "colab": {
          "base_uri": "https://localhost:8080/",
          "height": 269
        },
        "outputId": "e296bb16-3f06-4449-9930-ddba1f6f8f2b"
      },
      "source": [
        "# e) ii) Comparing State and Independent Schools\r\n",
        "state_mean = mean(tsa$TSA[tsa$SchoolType=='S'])\r\n",
        "indep_mean = mean(tsa$TSA[tsa$SchoolType=='I'])\r\n",
        "\r\n",
        "state_var = var(tsa$TSA[tsa$SchoolType=='S'])\r\n",
        "indep_var = var(tsa$TSA[tsa$SchoolType=='I'])\r\n",
        "\r\n",
        "state_num = sum(with(tsa, SchoolType=='S'))\r\n",
        "indep_num = sum(with(tsa, SchoolType=='I'))\r\n",
        "\r\n",
        "std_error = sqrt((state_var / state_num) + (indep_var / indep_num))\r\n",
        "t_stat = (indep_mean - state_mean) / std_error\r\n",
        "std_error\r\n",
        "t_stat\r\n",
        "\r\n",
        "# t.test(suspected larger, suspected smaller mean)\r\n",
        "indep_vals <- tsa$TSA[tsa$SchoolType=='I']\r\n",
        "state_vals <- tsa$TSA[tsa$SchoolType=='S']\r\n",
        "# mu parameter specifies the difference in means that we're testing for\r\n",
        "ttest <- t.test(indep_vals, state_vals, alternative=\"two.sided\", mu=0, conf.level = 0.95, var.equal = FALSE)\r\n",
        "ttest\r\n",
        "ttest$statistic"
      ],
      "execution_count": null,
      "outputs": [
        {
          "output_type": "display_data",
          "data": {
            "text/plain": [
              "[1] 0.6223021"
            ],
            "text/latex": "0.622302074805555",
            "text/markdown": "0.622302074805555",
            "text/html": [
              "0.622302074805555"
            ]
          },
          "metadata": {
            "tags": []
          }
        },
        {
          "output_type": "display_data",
          "data": {
            "text/plain": [
              "[1] 0.3420194"
            ],
            "text/latex": "0.342019413364746",
            "text/markdown": "0.342019413364746",
            "text/html": [
              "0.342019413364746"
            ]
          },
          "metadata": {
            "tags": []
          }
        },
        {
          "output_type": "display_data",
          "data": {
            "text/plain": [
              "\n",
              "\tWelch Two Sample t-test\n",
              "\n",
              "data:  indep_vals and state_vals\n",
              "t = 0.34202, df = 865.75, p-value = 0.7324\n",
              "alternative hypothesis: true difference in means is not equal to 0\n",
              "95 percent confidence interval:\n",
              " -1.008558  1.434237\n",
              "sample estimates:\n",
              "mean of x mean of y \n",
              " 62.38967  62.17683 \n"
            ]
          },
          "metadata": {
            "tags": []
          }
        },
        {
          "output_type": "display_data",
          "data": {
            "text/plain": [
              "        t \n",
              "0.3420194 "
            ],
            "text/latex": "\\textbf{t:} 0.342019413364746",
            "text/markdown": "**t:** 0.342019413364746",
            "text/html": [
              "<strong>t:</strong> 0.342019413364746"
            ]
          },
          "metadata": {
            "tags": []
          }
        }
      ]
    },
    {
      "cell_type": "code",
      "metadata": {
        "id": "JP4_pyffDuTz",
        "colab": {
          "base_uri": "https://localhost:8080/",
          "height": 252
        },
        "outputId": "815b74f6-60c1-4632-f1dd-e0d50fb91db2"
      },
      "source": [
        "# e) iii) Two-tailed test comparing admitted and non-admitted scores\r\n",
        "# Formally (in exams): 4 steps to a hypothesis test\r\n",
        "# 1) Set out hypotheses\r\n",
        "# 2) Decision Rules\r\n",
        "# 3) Calculate t-value\r\n",
        "# 4) Compare t-value to critical values or calculate p-value (probability of type I error)\r\n",
        "# Perfect solutions explain their answers: highlight how these things are connected\r\n",
        "# interpret them to show why they give their conclusions\r\n",
        "# numerically correct solutions are barely a first\r\n",
        "std_error = sqrt((var(tsa$TSA[tsa$Admit=='0'])/sum(with(tsa, Admit=='0'))) + (var(tsa$TSA[tsa$Admit=='1'])/sum(with(tsa, Admit=='1'))))\r\n",
        "t_stat = (mean(tsa$TSA[tsa$Admit=='1']) - mean(tsa$TSA[tsa$Admit=='0']))/std_error\r\n",
        "std_error\r\n",
        "t_stat\r\n",
        "\r\n",
        "t.test(tsa$TSA[tsa$Admit=='1'], tsa$TSA[tsa$Admit=='0'], alternative=\"two.sided\", mu=0, conf.level = 0.95, var.equal = FALSE)"
      ],
      "execution_count": null,
      "outputs": [
        {
          "output_type": "display_data",
          "data": {
            "text/plain": [
              "[1] 0.5223969"
            ],
            "text/latex": "0.522396915667618",
            "text/markdown": "0.522396915667618",
            "text/html": [
              "0.522396915667618"
            ]
          },
          "metadata": {
            "tags": []
          }
        },
        {
          "output_type": "display_data",
          "data": {
            "text/plain": [
              "[1] 25.03149"
            ],
            "text/latex": "25.0314881768122",
            "text/markdown": "25.0314881768122",
            "text/html": [
              "25.0314881768122"
            ]
          },
          "metadata": {
            "tags": []
          }
        },
        {
          "output_type": "display_data",
          "data": {
            "text/plain": [
              "\n",
              "\tWelch Two Sample t-test\n",
              "\n",
              "data:  tsa$TSA[tsa$Admit == \"1\"] and tsa$TSA[tsa$Admit == \"0\"]\n",
              "t = 25.031, df = 398.06, p-value < 2.2e-16\n",
              "alternative hypothesis: true difference in means is not equal to 0\n",
              "95 percent confidence interval:\n",
              " 12.04937 14.10337\n",
              "sample estimates:\n",
              "mean of x mean of y \n",
              " 71.70706  58.63069 \n"
            ]
          },
          "metadata": {
            "tags": []
          }
        }
      ]
    }
  ]
}